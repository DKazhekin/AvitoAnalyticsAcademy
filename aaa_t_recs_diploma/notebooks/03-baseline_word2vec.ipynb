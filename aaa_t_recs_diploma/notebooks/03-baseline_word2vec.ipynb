{
 "cells": [
  {
   "cell_type": "code",
   "execution_count": 15,
   "id": "505d8e83",
   "metadata": {},
   "outputs": [],
   "source": [
    "import os\n",
    "import pathlib\n",
    "import sys\n",
    "\n",
    "import numpy as np\n",
    "import pandas as pd\n",
    "\n",
    "project_path = pathlib.Path(os.getcwd()).parent\n",
    "sys.path.append(project_path.as_posix())\n",
    "\n",
    "from src.data import prepare_df_min_len_count, train_test_split_stratify\n",
    "from src.eval import common_metrics, diversity_at_k\n",
    "from src.model.baseline import RecWord2Vec"
   ]
  },
  {
   "cell_type": "code",
   "execution_count": 16,
   "id": "46335444",
   "metadata": {},
   "outputs": [],
   "source": [
    "DATA = pathlib.Path(\"../data\")\n",
    "DESC_DATA = DATA / \"raw\" / \"rec_aaa_title_desc.pq\"\n",
    "\n",
    "BUYER_DATA_PROCESSED = DATA / \"processed\" / \"rec_aaa_buyer_stream_processed.pq\""
   ]
  },
  {
   "cell_type": "code",
   "execution_count": 17,
   "id": "78ef12d4",
   "metadata": {},
   "outputs": [],
   "source": [
    "MIN_LEN_SESSION = 2\n",
    "MIN_COUNT_ITEM = 5"
   ]
  },
  {
   "cell_type": "code",
   "execution_count": 18,
   "id": "cc1ac7e9",
   "metadata": {},
   "outputs": [
    {
     "data": {
      "text/html": [
       "<div>\n",
       "<style scoped>\n",
       "    .dataframe tbody tr th:only-of-type {\n",
       "        vertical-align: middle;\n",
       "    }\n",
       "\n",
       "    .dataframe tbody tr th {\n",
       "        vertical-align: top;\n",
       "    }\n",
       "\n",
       "    .dataframe thead th {\n",
       "        text-align: right;\n",
       "    }\n",
       "</style>\n",
       "<table border=\"1\" class=\"dataframe\">\n",
       "  <thead>\n",
       "    <tr style=\"text-align: right;\">\n",
       "      <th></th>\n",
       "      <th>user_id</th>\n",
       "      <th>event_date</th>\n",
       "      <th>eid</th>\n",
       "      <th>category_id</th>\n",
       "      <th>microcat_id</th>\n",
       "      <th>internal_item_id</th>\n",
       "      <th>item_id</th>\n",
       "      <th>user_hash</th>\n",
       "      <th>x</th>\n",
       "      <th>conctact</th>\n",
       "      <th>session_id</th>\n",
       "    </tr>\n",
       "    <tr>\n",
       "      <th>index</th>\n",
       "      <th></th>\n",
       "      <th></th>\n",
       "      <th></th>\n",
       "      <th></th>\n",
       "      <th></th>\n",
       "      <th></th>\n",
       "      <th></th>\n",
       "      <th></th>\n",
       "      <th></th>\n",
       "      <th></th>\n",
       "      <th></th>\n",
       "    </tr>\n",
       "  </thead>\n",
       "  <tbody>\n",
       "    <tr>\n",
       "      <th>50313</th>\n",
       "      <td>15850</td>\n",
       "      <td>2024-09-01 09:19:06</td>\n",
       "      <td>4813</td>\n",
       "      <td>29</td>\n",
       "      <td>2179585</td>\n",
       "      <td>1880802250341</td>\n",
       "      <td>4126988312</td>\n",
       "      <td>6</td>\n",
       "      <td>NaN</td>\n",
       "      <td>True</td>\n",
       "      <td>1</td>\n",
       "    </tr>\n",
       "    <tr>\n",
       "      <th>50314</th>\n",
       "      <td>15850</td>\n",
       "      <td>2024-09-01 13:49:05</td>\n",
       "      <td>4813</td>\n",
       "      <td>29</td>\n",
       "      <td>2179585</td>\n",
       "      <td>1880802250341</td>\n",
       "      <td>4126988312</td>\n",
       "      <td>6</td>\n",
       "      <td>NaN</td>\n",
       "      <td>True</td>\n",
       "      <td>1</td>\n",
       "    </tr>\n",
       "    <tr>\n",
       "      <th>54366</th>\n",
       "      <td>15850</td>\n",
       "      <td>2024-09-01 16:56:45</td>\n",
       "      <td>4813</td>\n",
       "      <td>29</td>\n",
       "      <td>2179579</td>\n",
       "      <td>1881675250689</td>\n",
       "      <td>4208903128</td>\n",
       "      <td>6</td>\n",
       "      <td>NaN</td>\n",
       "      <td>True</td>\n",
       "      <td>1</td>\n",
       "    </tr>\n",
       "    <tr>\n",
       "      <th>17038</th>\n",
       "      <td>15850</td>\n",
       "      <td>2024-09-01 18:03:10</td>\n",
       "      <td>4813</td>\n",
       "      <td>106</td>\n",
       "      <td>19</td>\n",
       "      <td>1753602251163</td>\n",
       "      <td>4305669889</td>\n",
       "      <td>6</td>\n",
       "      <td>NaN</td>\n",
       "      <td>True</td>\n",
       "      <td>1</td>\n",
       "    </tr>\n",
       "    <tr>\n",
       "      <th>65080</th>\n",
       "      <td>15850</td>\n",
       "      <td>2024-09-06 07:13:25</td>\n",
       "      <td>4675</td>\n",
       "      <td>27</td>\n",
       "      <td>1144483</td>\n",
       "      <td>1891517757037</td>\n",
       "      <td>4293355912</td>\n",
       "      <td>6</td>\n",
       "      <td>8.055083e+12</td>\n",
       "      <td>True</td>\n",
       "      <td>2</td>\n",
       "    </tr>\n",
       "  </tbody>\n",
       "</table>\n",
       "</div>"
      ],
      "text/plain": [
       "       user_id          event_date   eid  category_id  microcat_id  \\\n",
       "index                                                                \n",
       "50313    15850 2024-09-01 09:19:06  4813           29      2179585   \n",
       "50314    15850 2024-09-01 13:49:05  4813           29      2179585   \n",
       "54366    15850 2024-09-01 16:56:45  4813           29      2179579   \n",
       "17038    15850 2024-09-01 18:03:10  4813          106           19   \n",
       "65080    15850 2024-09-06 07:13:25  4675           27      1144483   \n",
       "\n",
       "       internal_item_id     item_id  user_hash             x  conctact  \\\n",
       "index                                                                    \n",
       "50313     1880802250341  4126988312          6           NaN      True   \n",
       "50314     1880802250341  4126988312          6           NaN      True   \n",
       "54366     1881675250689  4208903128          6           NaN      True   \n",
       "17038     1753602251163  4305669889          6           NaN      True   \n",
       "65080     1891517757037  4293355912          6  8.055083e+12      True   \n",
       "\n",
       "       session_id  \n",
       "index              \n",
       "50313           1  \n",
       "50314           1  \n",
       "54366           1  \n",
       "17038           1  \n",
       "65080           2  "
      ]
     },
     "execution_count": 18,
     "metadata": {},
     "output_type": "execute_result"
    }
   ],
   "source": [
    "buyer_stream = pd.read_parquet(BUYER_DATA_PROCESSED)\n",
    "buyer_stream.head()"
   ]
  },
  {
   "cell_type": "markdown",
   "id": "c615b62c",
   "metadata": {},
   "source": [
    "### Data split"
   ]
  },
  {
   "cell_type": "code",
   "execution_count": 19,
   "id": "49ca0bd0",
   "metadata": {},
   "outputs": [
    {
     "name": "stdout",
     "output_type": "stream",
     "text": [
      "Итерация 0: 42438 записей\n",
      "Итерация 1: 1549 записей\n",
      "Итерация 2: 1402 записей\n"
     ]
    }
   ],
   "source": [
    "X = prepare_df_min_len_count(\n",
    "    buyer_stream, min_len_session=MIN_LEN_SESSION, min_count_item=MIN_COUNT_ITEM\n",
    ")"
   ]
  },
  {
   "cell_type": "code",
   "execution_count": 20,
   "id": "4b2caab3",
   "metadata": {},
   "outputs": [],
   "source": [
    "test_train_ratio = 0.3\n",
    "train_sessions, test_sessions = train_test_split_stratify(\n",
    "    X, test_train_ratio=test_train_ratio\n",
    ")"
   ]
  },
  {
   "cell_type": "code",
   "execution_count": 21,
   "id": "2840954b",
   "metadata": {},
   "outputs": [],
   "source": [
    "train_sessions = train_sessions[\"item_id\"].values.tolist()\n",
    "train_sessions = list(map(lambda x: list(map(str, x)), train_sessions))\n",
    "\n",
    "test_sessions = test_sessions[\"item_id\"].values.tolist()\n",
    "test_sessions = list(map(lambda x: list(map(str, x)), test_sessions))"
   ]
  },
  {
   "cell_type": "markdown",
   "id": "c94a6e8d",
   "metadata": {},
   "source": [
    "### Train"
   ]
  },
  {
   "cell_type": "code",
   "execution_count": 22,
   "id": "88482faf",
   "metadata": {},
   "outputs": [],
   "source": [
    "model = RecWord2Vec(verbose=True)"
   ]
  },
  {
   "cell_type": "code",
   "execution_count": 23,
   "id": "b23b673e",
   "metadata": {},
   "outputs": [
    {
     "name": "stdout",
     "output_type": "stream",
     "text": [
      "Всего уникальных объявлений: 115, 7 наиболее встречаемых: 770555412, 4530492123, 4522091877, 4457644771, 4371360089, 4354204098, 4349556599\n",
      "Время постройки словаря: 0.0 сек\n",
      "Время обучения: 0.16 сек\n"
     ]
    }
   ],
   "source": [
    "model.fit(sessions=train_sessions, epochs=30)"
   ]
  },
  {
   "cell_type": "markdown",
   "id": "701f70a4",
   "metadata": {},
   "source": [
    "### Eval"
   ]
  },
  {
   "cell_type": "code",
   "execution_count": 24,
   "id": "a5dba0f1",
   "metadata": {},
   "outputs": [],
   "source": [
    "K = 5"
   ]
  },
  {
   "cell_type": "code",
   "execution_count": 25,
   "id": "dd3a84e4",
   "metadata": {},
   "outputs": [],
   "source": [
    "predict_rec = model.predict(test_sessions, topn=K)\n",
    "true_rec = list(map(lambda x: x[-(K + 1) : -1], test_sessions))"
   ]
  },
  {
   "cell_type": "code",
   "execution_count": 26,
   "id": "0f1806e3",
   "metadata": {},
   "outputs": [],
   "source": [
    "recs_emb = np.array(\n",
    "    [[model.model.wv.get_vector(rec) for rec in recs] for recs in predict_rec]\n",
    ")"
   ]
  },
  {
   "cell_type": "code",
   "execution_count": 27,
   "id": "0762a4e9",
   "metadata": {},
   "outputs": [
    {
     "name": "stdout",
     "output_type": "stream",
     "text": [
      "precision: 0.035\n",
      "recall: 0.045\n",
      "ndcg: 0.1061521163675112\n"
     ]
    }
   ],
   "source": [
    "print(common_metrics(true_rec, predict_rec, k=K))"
   ]
  },
  {
   "cell_type": "code",
   "execution_count": 28,
   "id": "ec5376d3",
   "metadata": {},
   "outputs": [
    {
     "name": "stdout",
     "output_type": "stream",
     "text": [
      "diversity: 0.002120077610015869\n"
     ]
    }
   ],
   "source": [
    "print(f\"diversity: {diversity_at_k(recs_emb, k=K)}\")"
   ]
  }
 ],
 "metadata": {
  "kernelspec": {
   "display_name": ".venv",
   "language": "python",
   "name": "python3"
  },
  "language_info": {
   "codemirror_mode": {
    "name": "ipython",
    "version": 3
   },
   "file_extension": ".py",
   "mimetype": "text/x-python",
   "name": "python",
   "nbconvert_exporter": "python",
   "pygments_lexer": "ipython3",
   "version": "3.11.2"
  }
 },
 "nbformat": 4,
 "nbformat_minor": 5
}
