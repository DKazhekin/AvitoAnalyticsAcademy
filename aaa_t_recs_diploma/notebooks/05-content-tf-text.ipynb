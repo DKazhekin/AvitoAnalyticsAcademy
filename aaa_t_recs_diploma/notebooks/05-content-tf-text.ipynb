{
 "cells": [
  {
   "cell_type": "code",
   "execution_count": null,
   "id": "27a97743",
   "metadata": {
    "execution": {
     "iopub.execute_input": "2025-05-26T07:47:54.745048Z",
     "iopub.status.busy": "2025-05-26T07:47:54.744588Z",
     "iopub.status.idle": "2025-05-26T07:48:22.102469Z",
     "shell.execute_reply": "2025-05-26T07:48:22.101921Z",
     "shell.execute_reply.started": "2025-05-26T07:47:54.745023Z"
    },
    "trusted": true
   },
   "outputs": [
    {
     "name": "stderr",
     "output_type": "stream",
     "text": [
      "2025-05-26 07:48:09.366629: E external/local_xla/xla/stream_executor/cuda/cuda_fft.cc:477] Unable to register cuFFT factory: Attempting to register factory for plugin cuFFT when one has already been registered\n",
      "WARNING: All log messages before absl::InitializeLog() is called are written to STDERR\n",
      "E0000 00:00:1748245689.566033      35 cuda_dnn.cc:8310] Unable to register cuDNN factory: Attempting to register factory for plugin cuDNN when one has already been registered\n",
      "E0000 00:00:1748245689.626618      35 cuda_blas.cc:1418] Unable to register cuBLAS factory: Attempting to register factory for plugin cuBLAS when one has already been registered\n"
     ]
    }
   ],
   "source": [
    "import collections\n",
    "import math\n",
    "import pathlib\n",
    "\n",
    "import numpy as np\n",
    "import pandas as pd\n",
    "from datasets import Dataset, DatasetDict\n",
    "from sklearn.model_selection import train_test_split\n",
    "from transformers import AutoModelForMaskedLM, AutoTokenizer"
   ]
  },
  {
   "cell_type": "code",
   "execution_count": null,
   "id": "c2cd0cea",
   "metadata": {},
   "outputs": [],
   "source": [
    "from transformers import default_data_collator"
   ]
  },
  {
   "cell_type": "code",
   "execution_count": null,
   "id": "95812d6f",
   "metadata": {},
   "outputs": [],
   "source": [
    "from transformers import Trainer, TrainingArguments"
   ]
  },
  {
   "cell_type": "code",
   "execution_count": 2,
   "id": "0cf425b6-6e95-46db-a51d-8bd396625937",
   "metadata": {
    "execution": {
     "iopub.execute_input": "2025-05-26T07:48:22.104156Z",
     "iopub.status.busy": "2025-05-26T07:48:22.103696Z",
     "iopub.status.idle": "2025-05-26T07:48:22.107962Z",
     "shell.execute_reply": "2025-05-26T07:48:22.107281Z",
     "shell.execute_reply.started": "2025-05-26T07:48:22.104137Z"
    },
    "trusted": true
   },
   "outputs": [],
   "source": [
    "DATA = pathlib.Path(\"../data\")\n",
    "DESC_DATA = DATA / \"raw\" / \"rec_aaa_title_desc.pq\"\n",
    "TRAINED = pathlib.Path(\"../src/model/content/trained\")"
   ]
  },
  {
   "cell_type": "markdown",
   "id": "19934241-d3ae-4f49-ac37-4cc39eb0ca0d",
   "metadata": {},
   "source": [
    "### Data prepare"
   ]
  },
  {
   "cell_type": "code",
   "execution_count": 3,
   "id": "b493f4b6",
   "metadata": {
    "execution": {
     "iopub.execute_input": "2025-05-26T07:48:22.108793Z",
     "iopub.status.busy": "2025-05-26T07:48:22.108594Z",
     "iopub.status.idle": "2025-05-26T07:48:22.133290Z",
     "shell.execute_reply": "2025-05-26T07:48:22.132718Z",
     "shell.execute_reply.started": "2025-05-26T07:48:22.108778Z"
    },
    "trusted": true
   },
   "outputs": [],
   "source": [
    "MIN_LEN_DESCRIPTION = 20"
   ]
  },
  {
   "cell_type": "code",
   "execution_count": 4,
   "id": "473de2b8",
   "metadata": {
    "execution": {
     "iopub.execute_input": "2025-05-26T07:48:22.134451Z",
     "iopub.status.busy": "2025-05-26T07:48:22.133981Z",
     "iopub.status.idle": "2025-05-26T07:48:27.085985Z",
     "shell.execute_reply": "2025-05-26T07:48:27.085373Z",
     "shell.execute_reply.started": "2025-05-26T07:48:22.134434Z"
    },
    "trusted": true
   },
   "outputs": [
    {
     "data": {
      "text/html": [
       "<div>\n",
       "<style scoped>\n",
       "    .dataframe tbody tr th:only-of-type {\n",
       "        vertical-align: middle;\n",
       "    }\n",
       "\n",
       "    .dataframe tbody tr th {\n",
       "        vertical-align: top;\n",
       "    }\n",
       "\n",
       "    .dataframe thead th {\n",
       "        text-align: right;\n",
       "    }\n",
       "</style>\n",
       "<table border=\"1\" class=\"dataframe\">\n",
       "  <thead>\n",
       "    <tr style=\"text-align: right;\">\n",
       "      <th></th>\n",
       "      <th>Item_id</th>\n",
       "      <th>Title</th>\n",
       "      <th>t_rn</th>\n",
       "      <th>DescriptionRu</th>\n",
       "      <th>d_rn</th>\n",
       "    </tr>\n",
       "  </thead>\n",
       "  <tbody>\n",
       "    <tr>\n",
       "      <th>0</th>\n",
       "      <td>238750565</td>\n",
       "      <td>Сход-развал развал схождения hanter 3D</td>\n",
       "      <td>1</td>\n",
       "      <td>Развал-схождения 3D качественно, большой опыт....</td>\n",
       "      <td>1</td>\n",
       "    </tr>\n",
       "    <tr>\n",
       "      <th>1</th>\n",
       "      <td>298854720</td>\n",
       "      <td>Новые Beats Powerbeats Pro Cloud Pink от Apple</td>\n",
       "      <td>1</td>\n",
       "      <td>Продам НОВЫЕ Беспроводные наушники с микрофоно...</td>\n",
       "      <td>1</td>\n",
       "    </tr>\n",
       "    <tr>\n",
       "      <th>2</th>\n",
       "      <td>10409000978</td>\n",
       "      <td>Новые джинсы - капри белые</td>\n",
       "      <td>1</td>\n",
       "      <td>Джинсы (капри) новые растягиваются (стрейч). О...</td>\n",
       "      <td>1</td>\n",
       "    </tr>\n",
       "    <tr>\n",
       "      <th>3</th>\n",
       "      <td>14669000687</td>\n",
       "      <td>Подкрылки передние honda accord 7</td>\n",
       "      <td>1</td>\n",
       "      <td>Продается передний правый подкрылок на HONDA A...</td>\n",
       "      <td>1</td>\n",
       "    </tr>\n",
       "    <tr>\n",
       "      <th>4</th>\n",
       "      <td>22767000267</td>\n",
       "      <td>Цепочка. Серебро 925 пробы</td>\n",
       "      <td>1</td>\n",
       "      <td>❗Не отправляю. Только самовывоз. \\nЦепочка тон...</td>\n",
       "      <td>1</td>\n",
       "    </tr>\n",
       "  </tbody>\n",
       "</table>\n",
       "</div>"
      ],
      "text/plain": [
       "       Item_id                                           Title  t_rn  \\\n",
       "0    238750565          Сход-развал развал схождения hanter 3D     1   \n",
       "1    298854720  Новые Beats Powerbeats Pro Cloud Pink от Apple     1   \n",
       "2  10409000978                      Новые джинсы - капри белые     1   \n",
       "3  14669000687               Подкрылки передние honda accord 7     1   \n",
       "4  22767000267                      Цепочка. Серебро 925 пробы     1   \n",
       "\n",
       "                                       DescriptionRu  d_rn  \n",
       "0  Развал-схождения 3D качественно, большой опыт....     1  \n",
       "1  Продам НОВЫЕ Беспроводные наушники с микрофоно...     1  \n",
       "2  Джинсы (капри) новые растягиваются (стрейч). О...     1  \n",
       "3  Продается передний правый подкрылок на HONDA A...     1  \n",
       "4  ❗Не отправляю. Только самовывоз. \\nЦепочка тон...     1  "
      ]
     },
     "execution_count": 4,
     "metadata": {},
     "output_type": "execute_result"
    }
   ],
   "source": [
    "desc_df = pd.read_parquet(DESC_DATA)\n",
    "desc_df.head()"
   ]
  },
  {
   "cell_type": "code",
   "execution_count": 5,
   "id": "332b46eb",
   "metadata": {
    "execution": {
     "iopub.execute_input": "2025-05-26T07:48:27.087836Z",
     "iopub.status.busy": "2025-05-26T07:48:27.087615Z",
     "iopub.status.idle": "2025-05-26T07:48:30.283953Z",
     "shell.execute_reply": "2025-05-26T07:48:30.283382Z",
     "shell.execute_reply.started": "2025-05-26T07:48:27.087818Z"
    },
    "trusted": true
   },
   "outputs": [],
   "source": [
    "desc_df[\"full_decription\"] = desc_df.apply(\n",
    "    lambda row: \" % \".join([row[\"Title\"], row[\"DescriptionRu\"]]), axis=1\n",
    ")"
   ]
  },
  {
   "cell_type": "code",
   "execution_count": 6,
   "id": "4cc7cdcd",
   "metadata": {
    "execution": {
     "iopub.execute_input": "2025-05-26T07:48:30.284837Z",
     "iopub.status.busy": "2025-05-26T07:48:30.284614Z",
     "iopub.status.idle": "2025-05-26T07:48:30.312910Z",
     "shell.execute_reply": "2025-05-26T07:48:30.312342Z",
     "shell.execute_reply.started": "2025-05-26T07:48:30.284820Z"
    },
    "trusted": true
   },
   "outputs": [],
   "source": [
    "desc_df.drop(\n",
    "    columns=[\"Title\", \"DescriptionRu\", \"Item_id\", \"t_rn\", \"d_rn\"], inplace=True\n",
    ")"
   ]
  },
  {
   "cell_type": "code",
   "execution_count": 7,
   "id": "7b868f36",
   "metadata": {
    "execution": {
     "iopub.execute_input": "2025-05-26T07:48:30.313727Z",
     "iopub.status.busy": "2025-05-26T07:48:30.313515Z",
     "iopub.status.idle": "2025-05-26T07:48:33.814263Z",
     "shell.execute_reply": "2025-05-26T07:48:33.813740Z",
     "shell.execute_reply.started": "2025-05-26T07:48:30.313711Z"
    },
    "trusted": true
   },
   "outputs": [
    {
     "name": "stdout",
     "output_type": "stream",
     "text": [
      "CPU times: user 1.64 s, sys: 1.85 s, total: 3.49 s\n",
      "Wall time: 3.48 s\n"
     ]
    },
    {
     "data": {
      "text/plain": [
       "DatasetDict({\n",
       "    train: Dataset({\n",
       "        features: ['full_decription'],\n",
       "        num_rows: 435355\n",
       "    })\n",
       "})"
      ]
     },
     "execution_count": 7,
     "metadata": {},
     "output_type": "execute_result"
    }
   ],
   "source": [
    "%%time\n",
    "dataset = DatasetDict(\n",
    "    {\n",
    "        \"train\": Dataset.from_pandas(desc_df),\n",
    "    }\n",
    ")\n",
    "dataset"
   ]
  },
  {
   "cell_type": "code",
   "execution_count": 8,
   "id": "4668ebbf",
   "metadata": {
    "execution": {
     "iopub.execute_input": "2025-05-26T07:48:33.815299Z",
     "iopub.status.busy": "2025-05-26T07:48:33.814983Z",
     "iopub.status.idle": "2025-05-26T07:48:38.022702Z",
     "shell.execute_reply": "2025-05-26T07:48:38.022017Z",
     "shell.execute_reply.started": "2025-05-26T07:48:33.815279Z"
    },
    "trusted": true
   },
   "outputs": [
    {
     "data": {
      "application/vnd.jupyter.widget-view+json": {
       "model_id": "1c32634586db4c07b2eec7de4269aa14",
       "version_major": 2,
       "version_minor": 0
      },
      "text/plain": [
       "Filter:   0%|          | 0/435355 [00:00<?, ? examples/s]"
      ]
     },
     "metadata": {},
     "output_type": "display_data"
    },
    {
     "data": {
      "text/plain": [
       "DatasetDict({\n",
       "    train: Dataset({\n",
       "        features: ['full_decription'],\n",
       "        num_rows: 283914\n",
       "    })\n",
       "})"
      ]
     },
     "execution_count": 8,
     "metadata": {},
     "output_type": "execute_result"
    }
   ],
   "source": [
    "dataset[\"train\"] = dataset[\"train\"].filter(\n",
    "    lambda x: len(x[\"full_decription\"].split()) >= MIN_LEN_DESCRIPTION\n",
    ")\n",
    "dataset"
   ]
  },
  {
   "cell_type": "code",
   "execution_count": 9,
   "id": "0743b0a2",
   "metadata": {
    "execution": {
     "iopub.execute_input": "2025-05-26T07:48:38.023594Z",
     "iopub.status.busy": "2025-05-26T07:48:38.023322Z",
     "iopub.status.idle": "2025-05-26T07:48:41.761336Z",
     "shell.execute_reply": "2025-05-26T07:48:41.760764Z",
     "shell.execute_reply.started": "2025-05-26T07:48:38.023572Z"
    },
    "trusted": true
   },
   "outputs": [
    {
     "data": {
      "application/vnd.jupyter.widget-view+json": {
       "model_id": "6fe0a04e97db458ab647afe284c81511",
       "version_major": 2,
       "version_minor": 0
      },
      "text/plain": [
       "tokenizer_config.json:   0%|          | 0.00/401 [00:00<?, ?B/s]"
      ]
     },
     "metadata": {},
     "output_type": "display_data"
    },
    {
     "data": {
      "application/vnd.jupyter.widget-view+json": {
       "model_id": "edd9865295d547efab09082b8466d291",
       "version_major": 2,
       "version_minor": 0
      },
      "text/plain": [
       "vocab.txt:   0%|          | 0.00/1.08M [00:00<?, ?B/s]"
      ]
     },
     "metadata": {},
     "output_type": "display_data"
    },
    {
     "data": {
      "application/vnd.jupyter.widget-view+json": {
       "model_id": "8687a9ca16984bc8a9b09b5f751693d6",
       "version_major": 2,
       "version_minor": 0
      },
      "text/plain": [
       "tokenizer.json:   0%|          | 0.00/1.74M [00:00<?, ?B/s]"
      ]
     },
     "metadata": {},
     "output_type": "display_data"
    },
    {
     "data": {
      "application/vnd.jupyter.widget-view+json": {
       "model_id": "d995af6c2e9d4d5ca121f766f308fc52",
       "version_major": 2,
       "version_minor": 0
      },
      "text/plain": [
       "special_tokens_map.json:   0%|          | 0.00/112 [00:00<?, ?B/s]"
      ]
     },
     "metadata": {},
     "output_type": "display_data"
    },
    {
     "data": {
      "text/plain": [
       "(83828, True)"
      ]
     },
     "execution_count": 9,
     "metadata": {},
     "output_type": "execute_result"
    }
   ],
   "source": [
    "pretrained_model_name = \"cointegrated/rubert-tiny2\"\n",
    "\n",
    "tokenizer = AutoTokenizer.from_pretrained(pretrained_model_name)\n",
    "tokenizer.vocab_size, tokenizer.is_fast"
   ]
  },
  {
   "cell_type": "code",
   "execution_count": 10,
   "id": "0075ebba",
   "metadata": {
    "execution": {
     "iopub.execute_input": "2025-05-26T07:48:41.762364Z",
     "iopub.status.busy": "2025-05-26T07:48:41.762045Z",
     "iopub.status.idle": "2025-05-26T07:48:41.765867Z",
     "shell.execute_reply": "2025-05-26T07:48:41.765154Z",
     "shell.execute_reply.started": "2025-05-26T07:48:41.762344Z"
    },
    "trusted": true
   },
   "outputs": [],
   "source": [
    "def tokenize_function(examples):\n",
    "    return tokenizer(\n",
    "        examples[\"full_decription\"],\n",
    "        padding=True,\n",
    "        truncation=True,\n",
    "        max_length=512,\n",
    "        return_tensors=\"pt\",\n",
    "    )"
   ]
  },
  {
   "cell_type": "code",
   "execution_count": 11,
   "id": "a41307a1",
   "metadata": {
    "execution": {
     "iopub.execute_input": "2025-05-26T07:48:41.766900Z",
     "iopub.status.busy": "2025-05-26T07:48:41.766690Z",
     "iopub.status.idle": "2025-05-26T07:50:48.486799Z",
     "shell.execute_reply": "2025-05-26T07:50:48.486041Z",
     "shell.execute_reply.started": "2025-05-26T07:48:41.766885Z"
    },
    "trusted": true
   },
   "outputs": [
    {
     "data": {
      "application/vnd.jupyter.widget-view+json": {
       "model_id": "ab428483f29f44fdaa6b63972eb0a4b0",
       "version_major": 2,
       "version_minor": 0
      },
      "text/plain": [
       "Map (num_proc=8):   0%|          | 0/283914 [00:00<?, ? examples/s]"
      ]
     },
     "metadata": {},
     "output_type": "display_data"
    },
    {
     "data": {
      "text/plain": [
       "DatasetDict({\n",
       "    train: Dataset({\n",
       "        features: ['full_decription', 'input_ids', 'token_type_ids', 'attention_mask'],\n",
       "        num_rows: 283914\n",
       "    })\n",
       "})"
      ]
     },
     "execution_count": 11,
     "metadata": {},
     "output_type": "execute_result"
    }
   ],
   "source": [
    "dataset = dataset.map(tokenize_function, batched=True, num_proc=8)\n",
    "dataset"
   ]
  },
  {
   "cell_type": "code",
   "execution_count": 12,
   "id": "fc77ffd2",
   "metadata": {
    "execution": {
     "iopub.execute_input": "2025-05-26T07:50:48.487993Z",
     "iopub.status.busy": "2025-05-26T07:50:48.487709Z",
     "iopub.status.idle": "2025-05-26T07:50:51.923649Z",
     "shell.execute_reply": "2025-05-26T07:50:51.922899Z",
     "shell.execute_reply.started": "2025-05-26T07:50:48.487954Z"
    },
    "trusted": true
   },
   "outputs": [
    {
     "data": {
      "application/vnd.jupyter.widget-view+json": {
       "model_id": "2df8f27be40e4dd4a9d554ff8933c867",
       "version_major": 2,
       "version_minor": 0
      },
      "text/plain": [
       "config.json:   0%|          | 0.00/693 [00:00<?, ?B/s]"
      ]
     },
     "metadata": {},
     "output_type": "display_data"
    },
    {
     "data": {
      "application/vnd.jupyter.widget-view+json": {
       "model_id": "87a39c502c354e598a6deebb3ba682f5",
       "version_major": 2,
       "version_minor": 0
      },
      "text/plain": [
       "model.safetensors:   0%|          | 0.00/118M [00:00<?, ?B/s]"
      ]
     },
     "metadata": {},
     "output_type": "display_data"
    }
   ],
   "source": [
    "mlm_model = AutoModelForMaskedLM.from_pretrained(pretrained_model_name)"
   ]
  },
  {
   "cell_type": "code",
   "execution_count": 13,
   "id": "02f76ce3",
   "metadata": {
    "execution": {
     "iopub.execute_input": "2025-05-26T07:50:51.924699Z",
     "iopub.status.busy": "2025-05-26T07:50:51.924472Z",
     "iopub.status.idle": "2025-05-26T07:52:30.446367Z",
     "shell.execute_reply": "2025-05-26T07:52:30.445591Z",
     "shell.execute_reply.started": "2025-05-26T07:50:51.924682Z"
    },
    "trusted": true
   },
   "outputs": [
    {
     "data": {
      "application/vnd.jupyter.widget-view+json": {
       "model_id": "0a33482867154ea1a956ec4ec562abac",
       "version_major": 2,
       "version_minor": 0
      },
      "text/plain": [
       "Map (num_proc=2):   0%|          | 0/283914 [00:00<?, ? examples/s]"
      ]
     },
     "metadata": {},
     "output_type": "display_data"
    },
    {
     "name": "stderr",
     "output_type": "stream",
     "text": [
      "Token indices sequence length is longer than the specified maximum sequence length for this model (2860 > 2048). Running this sequence through the model will result in indexing errors\n",
      "Token indices sequence length is longer than the specified maximum sequence length for this model (2605 > 2048). Running this sequence through the model will result in indexing errors\n"
     ]
    },
    {
     "data": {
      "text/plain": [
       "Dataset({\n",
       "    features: ['attention_mask', 'input_ids', 'word_ids'],\n",
       "    num_rows: 283914\n",
       "})"
      ]
     },
     "execution_count": 13,
     "metadata": {},
     "output_type": "execute_result"
    }
   ],
   "source": [
    "def mlm_tokenize_function(examples):\n",
    "    result = tokenizer(examples[\"full_decription\"])\n",
    "    if tokenizer.is_fast:\n",
    "        result[\"word_ids\"] = [\n",
    "            result.word_ids(i) for i in range(len(result[\"input_ids\"]))\n",
    "        ]\n",
    "    return result\n",
    "\n",
    "\n",
    "mlm_tokenized_datasets = (\n",
    "    dataset[\"train\"]\n",
    "    .map(mlm_tokenize_function, batched=True, num_proc=2)\n",
    "    .select_columns([\"attention_mask\", \"input_ids\", \"word_ids\"])\n",
    ")\n",
    "mlm_tokenized_datasets"
   ]
  },
  {
   "cell_type": "code",
   "execution_count": 14,
   "id": "e29dd55b",
   "metadata": {
    "execution": {
     "iopub.execute_input": "2025-05-26T07:52:30.450185Z",
     "iopub.status.busy": "2025-05-26T07:52:30.449648Z",
     "iopub.status.idle": "2025-05-26T07:54:25.516854Z",
     "shell.execute_reply": "2025-05-26T07:54:25.516060Z",
     "shell.execute_reply.started": "2025-05-26T07:52:30.450158Z"
    },
    "trusted": true
   },
   "outputs": [
    {
     "data": {
      "application/vnd.jupyter.widget-view+json": {
       "model_id": "2869a120850440499b032fe9639592e8",
       "version_major": 2,
       "version_minor": 0
      },
      "text/plain": [
       "Map (num_proc=8):   0%|          | 0/283914 [00:00<?, ? examples/s]"
      ]
     },
     "metadata": {},
     "output_type": "display_data"
    },
    {
     "data": {
      "text/plain": [
       "Dataset({\n",
       "    features: ['attention_mask', 'input_ids', 'word_ids', 'labels'],\n",
       "    num_rows: 163879\n",
       "})"
      ]
     },
     "execution_count": 14,
     "metadata": {},
     "output_type": "execute_result"
    }
   ],
   "source": [
    "def group_texts(examples, chunk_size=256):\n",
    "    concatenated_examples = {k: sum(examples[k], []) for k in examples.keys()}\n",
    "    total_length = len(concatenated_examples[list(examples.keys())[0]])\n",
    "    total_length = (total_length // chunk_size) * chunk_size\n",
    "    result = {\n",
    "        k: [t[i : i + chunk_size] for i in range(0, total_length, chunk_size)]\n",
    "        for k, t in concatenated_examples.items()\n",
    "    }\n",
    "    result[\"labels\"] = result[\"input_ids\"].copy()\n",
    "    return result\n",
    "\n",
    "\n",
    "mlm_tokenized_datasets = mlm_tokenized_datasets.map(\n",
    "    group_texts, batched=True, num_proc=8\n",
    ")\n",
    "mlm_tokenized_datasets"
   ]
  },
  {
   "cell_type": "code",
   "execution_count": 15,
   "id": "c75f0a75",
   "metadata": {
    "execution": {
     "iopub.execute_input": "2025-05-26T07:54:25.517930Z",
     "iopub.status.busy": "2025-05-26T07:54:25.517720Z",
     "iopub.status.idle": "2025-05-26T07:54:25.524987Z",
     "shell.execute_reply": "2025-05-26T07:54:25.524071Z",
     "shell.execute_reply.started": "2025-05-26T07:54:25.517909Z"
    },
    "trusted": true
   },
   "outputs": [],
   "source": [
    "wwm_probability = 0.2\n",
    "\n",
    "\n",
    "def whole_word_masking_data_collator(features):\n",
    "    for feature in features:\n",
    "        word_ids = feature[\"word_ids\"]\n",
    "\n",
    "        # Create a map between words and corresponding token indices\n",
    "        mapping = collections.defaultdict(list)\n",
    "        current_word_index = -1\n",
    "        current_word = None\n",
    "        for idx, word_id in enumerate(word_ids):\n",
    "            if word_id is not None:\n",
    "                if word_id != current_word:\n",
    "                    current_word = word_id\n",
    "                    current_word_index += 1\n",
    "                mapping[current_word_index].append(idx)\n",
    "\n",
    "        # Randomly mask words\n",
    "        mask = np.random.binomial(1, wwm_probability, (len(mapping),))\n",
    "        input_ids = feature[\"input_ids\"]\n",
    "        labels = feature[\"labels\"]\n",
    "        new_labels = [-100] * len(labels)\n",
    "        for word_id in np.where(mask)[0]:\n",
    "            word_id = word_id.item()\n",
    "            for idx in mapping[word_id]:\n",
    "                new_labels[idx] = labels[idx]\n",
    "                input_ids[idx] = tokenizer.mask_token_id\n",
    "        feature[\"labels\"] = new_labels\n",
    "\n",
    "    return default_data_collator(\n",
    "        [{k: v for k, v in feature.items() if k != \"word_ids\"} for feature in features]\n",
    "    )"
   ]
  },
  {
   "cell_type": "code",
   "execution_count": 16,
   "id": "9efb871b",
   "metadata": {
    "execution": {
     "iopub.execute_input": "2025-05-26T07:54:25.525922Z",
     "iopub.status.busy": "2025-05-26T07:54:25.525655Z",
     "iopub.status.idle": "2025-05-26T07:54:25.584025Z",
     "shell.execute_reply": "2025-05-26T07:54:25.583465Z",
     "shell.execute_reply.started": "2025-05-26T07:54:25.525901Z"
    },
    "trusted": true
   },
   "outputs": [],
   "source": [
    "mlm_tokenized_datasets = mlm_tokenized_datasets.train_test_split(\n",
    "    train_size=int(len(mlm_tokenized_datasets) * 0.9),\n",
    "    test_size=int(len(mlm_tokenized_datasets) * 0.1),\n",
    "    seed=42,\n",
    ")"
   ]
  },
  {
   "cell_type": "markdown",
   "id": "eb6704d6-ce54-4f40-b2b5-6554f4409821",
   "metadata": {},
   "source": [
    "### Train"
   ]
  },
  {
   "cell_type": "code",
   "execution_count": 17,
   "id": "072e2712",
   "metadata": {
    "execution": {
     "iopub.execute_input": "2025-05-26T07:54:25.584732Z",
     "iopub.status.busy": "2025-05-26T07:54:25.584561Z",
     "iopub.status.idle": "2025-05-26T07:54:26.081543Z",
     "shell.execute_reply": "2025-05-26T07:54:26.080982Z",
     "shell.execute_reply.started": "2025-05-26T07:54:25.584718Z"
    },
    "trusted": true
   },
   "outputs": [],
   "source": [
    "mlm_model = AutoModelForMaskedLM.from_pretrained(pretrained_model_name)\n",
    "\n",
    "trainer = Trainer(\n",
    "    model=mlm_model,\n",
    "    args=TrainingArguments(\n",
    "        output_dir=TRAINED,\n",
    "        num_train_epochs=1,\n",
    "        warmup_steps=100,\n",
    "        optim=\"adamw_torch\",\n",
    "        learning_rate=1e-4,\n",
    "        weight_decay=1e-2,\n",
    "        fp16=True,\n",
    "        max_grad_norm=1.0,\n",
    "        gradient_accumulation_steps=4,\n",
    "        per_device_train_batch_size=16,\n",
    "        per_device_eval_batch_size=64,\n",
    "        do_eval=True,\n",
    "        eval_strategy=\"steps\",\n",
    "        eval_steps=500,\n",
    "        remove_unused_columns=False,\n",
    "        report_to=\"none\",\n",
    "    ),\n",
    "    train_dataset=mlm_tokenized_datasets[\"train\"],\n",
    "    eval_dataset=mlm_tokenized_datasets[\"test\"],\n",
    "    data_collator=whole_word_masking_data_collator,\n",
    ")"
   ]
  },
  {
   "cell_type": "code",
   "execution_count": 18,
   "id": "c69beadb",
   "metadata": {
    "execution": {
     "iopub.execute_input": "2025-05-26T07:54:26.082300Z",
     "iopub.status.busy": "2025-05-26T07:54:26.082098Z",
     "iopub.status.idle": "2025-05-26T07:55:33.721406Z",
     "shell.execute_reply": "2025-05-26T07:55:33.720839Z",
     "shell.execute_reply.started": "2025-05-26T07:54:26.082279Z"
    },
    "trusted": true
   },
   "outputs": [
    {
     "data": {
      "text/html": [
       "\n",
       "    <div>\n",
       "      \n",
       "      <progress value='514' max='257' style='width:300px; height:20px; vertical-align: middle;'></progress>\n",
       "      [257/257 07:38]\n",
       "    </div>\n",
       "    "
      ],
      "text/plain": [
       "<IPython.core.display.HTML object>"
      ]
     },
     "metadata": {},
     "output_type": "display_data"
    },
    {
     "name": "stdout",
     "output_type": "stream",
     "text": [
      "Perplexity: 481.89\n"
     ]
    }
   ],
   "source": [
    "eval_results = trainer.evaluate()\n",
    "print(f\"Perplexity: {math.exp(eval_results['eval_loss']):.2f}\")"
   ]
  },
  {
   "cell_type": "code",
   "execution_count": 19,
   "id": "ecb5b5d9",
   "metadata": {
    "execution": {
     "iopub.execute_input": "2025-05-26T07:55:33.722426Z",
     "iopub.status.busy": "2025-05-26T07:55:33.722127Z",
     "iopub.status.idle": "2025-05-26T08:25:00.340792Z",
     "shell.execute_reply": "2025-05-26T08:25:00.340168Z",
     "shell.execute_reply.started": "2025-05-26T07:55:33.722401Z"
    },
    "trusted": true
   },
   "outputs": [
    {
     "data": {
      "text/html": [
       "\n",
       "    <div>\n",
       "      \n",
       "      <progress value='2304' max='2304' style='width:300px; height:20px; vertical-align: middle;'></progress>\n",
       "      [2304/2304 29:25, Epoch 0/1]\n",
       "    </div>\n",
       "    <table border=\"1\" class=\"dataframe\">\n",
       "  <thead>\n",
       " <tr style=\"text-align: left;\">\n",
       "      <th>Step</th>\n",
       "      <th>Training Loss</th>\n",
       "      <th>Validation Loss</th>\n",
       "      <th>Model Preparation Time</th>\n",
       "    </tr>\n",
       "  </thead>\n",
       "  <tbody>\n",
       "    <tr>\n",
       "      <td>500</td>\n",
       "      <td>5.154400</td>\n",
       "      <td>4.622911</td>\n",
       "      <td>0.001200</td>\n",
       "    </tr>\n",
       "    <tr>\n",
       "      <td>1000</td>\n",
       "      <td>4.701600</td>\n",
       "      <td>4.413905</td>\n",
       "      <td>0.001200</td>\n",
       "    </tr>\n",
       "    <tr>\n",
       "      <td>1500</td>\n",
       "      <td>4.570300</td>\n",
       "      <td>4.316596</td>\n",
       "      <td>0.001200</td>\n",
       "    </tr>\n",
       "    <tr>\n",
       "      <td>2000</td>\n",
       "      <td>4.489100</td>\n",
       "      <td>4.262186</td>\n",
       "      <td>0.001200</td>\n",
       "    </tr>\n",
       "  </tbody>\n",
       "</table><p>"
      ],
      "text/plain": [
       "<IPython.core.display.HTML object>"
      ]
     },
     "metadata": {},
     "output_type": "display_data"
    },
    {
     "data": {
      "text/plain": [
       "TrainOutput(global_step=2304, training_loss=4.693500836690267, metrics={'train_runtime': 1766.1313, 'train_samples_per_second': 83.511, 'train_steps_per_second': 1.305, 'total_flos': 562671485190144.0, 'train_loss': 4.693500836690267, 'epoch': 0.9996745850959974})"
      ]
     },
     "execution_count": 19,
     "metadata": {},
     "output_type": "execute_result"
    }
   ],
   "source": [
    "trainer.train()"
   ]
  },
  {
   "cell_type": "code",
   "execution_count": 20,
   "id": "b86352d1",
   "metadata": {
    "execution": {
     "iopub.execute_input": "2025-05-26T08:25:00.341885Z",
     "iopub.status.busy": "2025-05-26T08:25:00.341625Z",
     "iopub.status.idle": "2025-05-26T08:26:09.250503Z",
     "shell.execute_reply": "2025-05-26T08:26:09.249947Z",
     "shell.execute_reply.started": "2025-05-26T08:25:00.341858Z"
    },
    "trusted": true
   },
   "outputs": [
    {
     "data": {
      "text/html": [
       "\n",
       "    <div>\n",
       "      \n",
       "      <progress value='257' max='257' style='width:300px; height:20px; vertical-align: middle;'></progress>\n",
       "      [257/257 01:08]\n",
       "    </div>\n",
       "    "
      ],
      "text/plain": [
       "<IPython.core.display.HTML object>"
      ]
     },
     "metadata": {},
     "output_type": "display_data"
    },
    {
     "name": "stdout",
     "output_type": "stream",
     "text": [
      "Perplexity: 70.10\n"
     ]
    }
   ],
   "source": [
    "eval_results = trainer.evaluate()\n",
    "print(f\"Perplexity: {math.exp(eval_results['eval_loss']):.2f}\")"
   ]
  },
  {
   "cell_type": "code",
   "execution_count": 21,
   "id": "cfdceb39",
   "metadata": {
    "execution": {
     "iopub.execute_input": "2025-05-26T08:26:09.251506Z",
     "iopub.status.busy": "2025-05-26T08:26:09.251215Z",
     "iopub.status.idle": "2025-05-26T08:26:09.559230Z",
     "shell.execute_reply": "2025-05-26T08:26:09.558456Z",
     "shell.execute_reply.started": "2025-05-26T08:26:09.251486Z"
    },
    "trusted": true
   },
   "outputs": [],
   "source": [
    "trainer.save_model(TRAINED)"
   ]
  },
  {
   "cell_type": "code",
   "execution_count": null,
   "id": "3b6b96c3-450a-4bd3-a2b0-bdd2eb050e6e",
   "metadata": {
    "trusted": true
   },
   "outputs": [],
   "source": []
  }
 ],
 "metadata": {
  "kaggle": {
   "accelerator": "gpu",
   "dataSources": [
    {
     "datasetId": 7513057,
     "sourceId": 11950356,
     "sourceType": "datasetVersion"
    }
   ],
   "dockerImageVersionId": 31041,
   "isGpuEnabled": true,
   "isInternetEnabled": true,
   "language": "python",
   "sourceType": "notebook"
  },
  "kernelspec": {
   "display_name": "Python 3",
   "language": "python",
   "name": "python3"
  },
  "language_info": {
   "codemirror_mode": {
    "name": "ipython",
    "version": 3
   },
   "file_extension": ".py",
   "mimetype": "text/x-python",
   "name": "python",
   "nbconvert_exporter": "python",
   "pygments_lexer": "ipython3",
   "version": "3.11.11"
  }
 },
 "nbformat": 4,
 "nbformat_minor": 5
}
