{
 "cells": [
  {
   "cell_type": "code",
   "execution_count": 1,
   "id": "5d400515",
   "metadata": {},
   "outputs": [
    {
     "name": "stderr",
     "output_type": "stream",
     "text": [
      "/Users/alfa/Downloads/aaa-t-recs/.venv/lib/python3.12/site-packages/tqdm/auto.py:21: TqdmWarning: IProgress not found. Please update jupyter and ipywidgets. See https://ipywidgets.readthedocs.io/en/stable/user_install.html\n",
      "  from .autonotebook import tqdm as notebook_tqdm\n"
     ]
    }
   ],
   "source": [
    "import os\n",
    "import pathlib\n",
    "import sys\n",
    "\n",
    "import pandas as pd\n",
    "from implicit.evaluation import mean_average_precision_at_k, precision_at_k\n",
    "from scipy.sparse import csr_matrix\n",
    "from sklearn.model_selection import train_test_split\n",
    "\n",
    "project_path = pathlib.Path(os.getcwd()).parent\n",
    "sys.path.append(project_path.as_posix())\n",
    "\n",
    "from src.model.collaborative import ALS\n",
    "from src.model.collaborative.utils import create_mappings, save_csr_matrix"
   ]
  },
  {
   "cell_type": "code",
   "execution_count": 5,
   "id": "d7e4aa06",
   "metadata": {},
   "outputs": [],
   "source": [
    "DATA = pathlib.Path(\"../data\")\n",
    "DESC_DATA = DATA / \"raw\" / \"rec_aaa_title_desc.pq\"\n",
    "\n",
    "BUYER_DATA = DATA / \"raw\" / \"rec_aaa_buyer_stream.pq\"\n",
    "BUYER_DATA_EXTENDED = DATA / \"raw\" / \"buyer_stream_extended.parquet\""
   ]
  },
  {
   "cell_type": "code",
   "execution_count": 3,
   "id": "6a5c9b8c",
   "metadata": {},
   "outputs": [],
   "source": [
    "TRAINED = pathlib.Path(\"../src/model/collaborative/trained\")\n",
    "DATA_COLLABORATIVE = DATA / \"processed\" / \"collaborative\"\n",
    "\n",
    "MAPPING = TRAINED / \"mapping.pkl\"\n",
    "MODEL = TRAINED / \"als_model.pkl\"\n",
    "TRAIN_MATRIX = DATA_COLLABORATIVE / \"train_matrix.pkl\"\n",
    "EVAL_MATRIX = DATA_COLLABORATIVE / \"eval_matrix.pkl\""
   ]
  },
  {
   "cell_type": "code",
   "execution_count": 6,
   "id": "7b54ec67",
   "metadata": {},
   "outputs": [],
   "source": [
    "buyer_stream = pd.read_parquet(BUYER_DATA)\n",
    "buyer_stream_extended = pd.read_parquet(BUYER_DATA_EXTENDED)"
   ]
  },
  {
   "cell_type": "code",
   "execution_count": 9,
   "id": "ec811717",
   "metadata": {},
   "outputs": [
    {
     "name": "stdout",
     "output_type": "stream",
     "text": [
      "2024-09-01 00:01:45\n",
      "2024-10-25 23:59:00\n"
     ]
    }
   ],
   "source": [
    "print(buyer_stream.event_date.min())\n",
    "print(buyer_stream.event_date.max())"
   ]
  },
  {
   "cell_type": "code",
   "execution_count": null,
   "id": "08f1ed7f",
   "metadata": {},
   "outputs": [
    {
     "name": "stdout",
     "output_type": "stream",
     "text": [
      "2025-02-25 00:00:00\n",
      "2025-02-28 23:59:59\n"
     ]
    }
   ],
   "source": [
    "print(buyer_stream_extended.event_date.min())\n",
    "print(buyer_stream_extended.event_date.max())"
   ]
  },
  {
   "cell_type": "code",
   "execution_count": 5,
   "id": "cc6ad086",
   "metadata": {},
   "outputs": [],
   "source": [
    "buyer_stream = pd.read_parquet(BUYER_DATA_PROCESSED)"
   ]
  },
  {
   "cell_type": "code",
   "execution_count": 7,
   "id": "142d679b",
   "metadata": {},
   "outputs": [
    {
     "data": {
      "text/html": [
       "<div>\n",
       "<style scoped>\n",
       "    .dataframe tbody tr th:only-of-type {\n",
       "        vertical-align: middle;\n",
       "    }\n",
       "\n",
       "    .dataframe tbody tr th {\n",
       "        vertical-align: top;\n",
       "    }\n",
       "\n",
       "    .dataframe thead th {\n",
       "        text-align: right;\n",
       "    }\n",
       "</style>\n",
       "<table border=\"1\" class=\"dataframe\">\n",
       "  <thead>\n",
       "    <tr style=\"text-align: right;\">\n",
       "      <th></th>\n",
       "      <th>user_id</th>\n",
       "      <th>event_date</th>\n",
       "      <th>eid</th>\n",
       "      <th>category_id</th>\n",
       "      <th>microcat_id</th>\n",
       "      <th>internal_item_id</th>\n",
       "      <th>item_id</th>\n",
       "      <th>user_hash</th>\n",
       "      <th>x</th>\n",
       "      <th>conctact</th>\n",
       "      <th>session_id</th>\n",
       "    </tr>\n",
       "  </thead>\n",
       "  <tbody>\n",
       "    <tr>\n",
       "      <th>50313</th>\n",
       "      <td>15850</td>\n",
       "      <td>2024-09-01 09:19:06</td>\n",
       "      <td>4813</td>\n",
       "      <td>29</td>\n",
       "      <td>2179585</td>\n",
       "      <td>1880802250341</td>\n",
       "      <td>4126988312</td>\n",
       "      <td>6</td>\n",
       "      <td>NaN</td>\n",
       "      <td>True</td>\n",
       "      <td>1</td>\n",
       "    </tr>\n",
       "    <tr>\n",
       "      <th>50314</th>\n",
       "      <td>15850</td>\n",
       "      <td>2024-09-01 13:49:05</td>\n",
       "      <td>4813</td>\n",
       "      <td>29</td>\n",
       "      <td>2179585</td>\n",
       "      <td>1880802250341</td>\n",
       "      <td>4126988312</td>\n",
       "      <td>6</td>\n",
       "      <td>NaN</td>\n",
       "      <td>True</td>\n",
       "      <td>1</td>\n",
       "    </tr>\n",
       "    <tr>\n",
       "      <th>54366</th>\n",
       "      <td>15850</td>\n",
       "      <td>2024-09-01 16:56:45</td>\n",
       "      <td>4813</td>\n",
       "      <td>29</td>\n",
       "      <td>2179579</td>\n",
       "      <td>1881675250689</td>\n",
       "      <td>4208903128</td>\n",
       "      <td>6</td>\n",
       "      <td>NaN</td>\n",
       "      <td>True</td>\n",
       "      <td>1</td>\n",
       "    </tr>\n",
       "    <tr>\n",
       "      <th>17038</th>\n",
       "      <td>15850</td>\n",
       "      <td>2024-09-01 18:03:10</td>\n",
       "      <td>4813</td>\n",
       "      <td>106</td>\n",
       "      <td>19</td>\n",
       "      <td>1753602251163</td>\n",
       "      <td>4305669889</td>\n",
       "      <td>6</td>\n",
       "      <td>NaN</td>\n",
       "      <td>True</td>\n",
       "      <td>1</td>\n",
       "    </tr>\n",
       "    <tr>\n",
       "      <th>65080</th>\n",
       "      <td>15850</td>\n",
       "      <td>2024-09-06 07:13:25</td>\n",
       "      <td>4675</td>\n",
       "      <td>27</td>\n",
       "      <td>1144483</td>\n",
       "      <td>1891517757037</td>\n",
       "      <td>4293355912</td>\n",
       "      <td>6</td>\n",
       "      <td>8.055083e+12</td>\n",
       "      <td>True</td>\n",
       "      <td>2</td>\n",
       "    </tr>\n",
       "    <tr>\n",
       "      <th>...</th>\n",
       "      <td>...</td>\n",
       "      <td>...</td>\n",
       "      <td>...</td>\n",
       "      <td>...</td>\n",
       "      <td>...</td>\n",
       "      <td>...</td>\n",
       "      <td>...</td>\n",
       "      <td>...</td>\n",
       "      <td>...</td>\n",
       "      <td>...</td>\n",
       "      <td>...</td>\n",
       "    </tr>\n",
       "    <tr>\n",
       "      <th>65079</th>\n",
       "      <td>1702546250012</td>\n",
       "      <td>2024-10-16 23:38:16</td>\n",
       "      <td>857</td>\n",
       "      <td>101</td>\n",
       "      <td>3841</td>\n",
       "      <td>1930517250112</td>\n",
       "      <td>4359474466</td>\n",
       "      <td>39</td>\n",
       "      <td>8.264518e+12</td>\n",
       "      <td>True</td>\n",
       "      <td>19850</td>\n",
       "    </tr>\n",
       "    <tr>\n",
       "      <th>11942</th>\n",
       "      <td>1702546250012</td>\n",
       "      <td>2024-10-16 23:39:28</td>\n",
       "      <td>857</td>\n",
       "      <td>27</td>\n",
       "      <td>1178044</td>\n",
       "      <td>1930266250050</td>\n",
       "      <td>4168550717</td>\n",
       "      <td>39</td>\n",
       "      <td>8.264513e+12</td>\n",
       "      <td>True</td>\n",
       "      <td>19850</td>\n",
       "    </tr>\n",
       "    <tr>\n",
       "      <th>1339</th>\n",
       "      <td>1702546250012</td>\n",
       "      <td>2024-10-16 23:43:17</td>\n",
       "      <td>857</td>\n",
       "      <td>9</td>\n",
       "      <td>21777</td>\n",
       "      <td>1669856001035</td>\n",
       "      <td>3792232410</td>\n",
       "      <td>39</td>\n",
       "      <td>8.264666e+12</td>\n",
       "      <td>True</td>\n",
       "      <td>19850</td>\n",
       "    </tr>\n",
       "    <tr>\n",
       "      <th>40876</th>\n",
       "      <td>1702546250012</td>\n",
       "      <td>2024-10-16 23:46:00</td>\n",
       "      <td>857</td>\n",
       "      <td>9</td>\n",
       "      <td>21753</td>\n",
       "      <td>1912986503800</td>\n",
       "      <td>4357178651</td>\n",
       "      <td>39</td>\n",
       "      <td>NaN</td>\n",
       "      <td>True</td>\n",
       "      <td>19850</td>\n",
       "    </tr>\n",
       "    <tr>\n",
       "      <th>58444</th>\n",
       "      <td>1702546250012</td>\n",
       "      <td>2024-10-16 23:49:52</td>\n",
       "      <td>857</td>\n",
       "      <td>9</td>\n",
       "      <td>21149</td>\n",
       "      <td>1833536000073</td>\n",
       "      <td>3957561067</td>\n",
       "      <td>39</td>\n",
       "      <td>8.264688e+12</td>\n",
       "      <td>True</td>\n",
       "      <td>19850</td>\n",
       "    </tr>\n",
       "  </tbody>\n",
       "</table>\n",
       "<p>66547 rows × 11 columns</p>\n",
       "</div>"
      ],
      "text/plain": [
       "             user_id          event_date   eid  category_id  microcat_id  \\\n",
       "50313          15850 2024-09-01 09:19:06  4813           29      2179585   \n",
       "50314          15850 2024-09-01 13:49:05  4813           29      2179585   \n",
       "54366          15850 2024-09-01 16:56:45  4813           29      2179579   \n",
       "17038          15850 2024-09-01 18:03:10  4813          106           19   \n",
       "65080          15850 2024-09-06 07:13:25  4675           27      1144483   \n",
       "...              ...                 ...   ...          ...          ...   \n",
       "65079  1702546250012 2024-10-16 23:38:16   857          101         3841   \n",
       "11942  1702546250012 2024-10-16 23:39:28   857           27      1178044   \n",
       "1339   1702546250012 2024-10-16 23:43:17   857            9        21777   \n",
       "40876  1702546250012 2024-10-16 23:46:00   857            9        21753   \n",
       "58444  1702546250012 2024-10-16 23:49:52   857            9        21149   \n",
       "\n",
       "       internal_item_id     item_id  user_hash             x  conctact  \\\n",
       "50313     1880802250341  4126988312          6           NaN      True   \n",
       "50314     1880802250341  4126988312          6           NaN      True   \n",
       "54366     1881675250689  4208903128          6           NaN      True   \n",
       "17038     1753602251163  4305669889          6           NaN      True   \n",
       "65080     1891517757037  4293355912          6  8.055083e+12      True   \n",
       "...                 ...         ...        ...           ...       ...   \n",
       "65079     1930517250112  4359474466         39  8.264518e+12      True   \n",
       "11942     1930266250050  4168550717         39  8.264513e+12      True   \n",
       "1339      1669856001035  3792232410         39  8.264666e+12      True   \n",
       "40876     1912986503800  4357178651         39           NaN      True   \n",
       "58444     1833536000073  3957561067         39  8.264688e+12      True   \n",
       "\n",
       "       session_id  \n",
       "50313           1  \n",
       "50314           1  \n",
       "54366           1  \n",
       "17038           1  \n",
       "65080           2  \n",
       "...           ...  \n",
       "65079       19850  \n",
       "11942       19850  \n",
       "1339        19850  \n",
       "40876       19850  \n",
       "58444       19850  \n",
       "\n",
       "[66547 rows x 11 columns]"
      ]
     },
     "execution_count": 7,
     "metadata": {},
     "output_type": "execute_result"
    }
   ],
   "source": [
    "buyer_stream"
   ]
  },
  {
   "cell_type": "markdown",
   "id": "dd1ec8df",
   "metadata": {},
   "source": [
    "### Data split"
   ]
  },
  {
   "cell_type": "code",
   "execution_count": 8,
   "id": "58cda6ff",
   "metadata": {},
   "outputs": [],
   "source": [
    "interactions_df = (\n",
    "    buyer_stream.groupby([\"user_id\", \"item_id\"])\n",
    "    .size()\n",
    "    .reset_index(name=\"interaction_count\")\n",
    ")"
   ]
  },
  {
   "cell_type": "code",
   "execution_count": 9,
   "id": "d5490a3c",
   "metadata": {},
   "outputs": [
    {
     "data": {
      "text/html": [
       "<div>\n",
       "<style scoped>\n",
       "    .dataframe tbody tr th:only-of-type {\n",
       "        vertical-align: middle;\n",
       "    }\n",
       "\n",
       "    .dataframe tbody tr th {\n",
       "        vertical-align: top;\n",
       "    }\n",
       "\n",
       "    .dataframe thead th {\n",
       "        text-align: right;\n",
       "    }\n",
       "</style>\n",
       "<table border=\"1\" class=\"dataframe\">\n",
       "  <thead>\n",
       "    <tr style=\"text-align: right;\">\n",
       "      <th></th>\n",
       "      <th>user_id</th>\n",
       "      <th>item_id</th>\n",
       "      <th>interaction_count</th>\n",
       "    </tr>\n",
       "  </thead>\n",
       "  <tbody>\n",
       "    <tr>\n",
       "      <th>0</th>\n",
       "      <td>15850</td>\n",
       "      <td>2046139836</td>\n",
       "      <td>2</td>\n",
       "    </tr>\n",
       "    <tr>\n",
       "      <th>1</th>\n",
       "      <td>15850</td>\n",
       "      <td>2408812176</td>\n",
       "      <td>3</td>\n",
       "    </tr>\n",
       "    <tr>\n",
       "      <th>2</th>\n",
       "      <td>15850</td>\n",
       "      <td>2828827745</td>\n",
       "      <td>1</td>\n",
       "    </tr>\n",
       "    <tr>\n",
       "      <th>3</th>\n",
       "      <td>15850</td>\n",
       "      <td>3240409049</td>\n",
       "      <td>1</td>\n",
       "    </tr>\n",
       "    <tr>\n",
       "      <th>4</th>\n",
       "      <td>15850</td>\n",
       "      <td>3558668724</td>\n",
       "      <td>1</td>\n",
       "    </tr>\n",
       "    <tr>\n",
       "      <th>...</th>\n",
       "      <td>...</td>\n",
       "      <td>...</td>\n",
       "      <td>...</td>\n",
       "    </tr>\n",
       "    <tr>\n",
       "      <th>46392</th>\n",
       "      <td>1702546250012</td>\n",
       "      <td>4168550717</td>\n",
       "      <td>1</td>\n",
       "    </tr>\n",
       "    <tr>\n",
       "      <th>46393</th>\n",
       "      <td>1702546250012</td>\n",
       "      <td>4357178651</td>\n",
       "      <td>1</td>\n",
       "    </tr>\n",
       "    <tr>\n",
       "      <th>46394</th>\n",
       "      <td>1702546250012</td>\n",
       "      <td>4359474466</td>\n",
       "      <td>1</td>\n",
       "    </tr>\n",
       "    <tr>\n",
       "      <th>46395</th>\n",
       "      <td>1702546250012</td>\n",
       "      <td>4420513948</td>\n",
       "      <td>1</td>\n",
       "    </tr>\n",
       "    <tr>\n",
       "      <th>46396</th>\n",
       "      <td>1702546250012</td>\n",
       "      <td>4537741269</td>\n",
       "      <td>1</td>\n",
       "    </tr>\n",
       "  </tbody>\n",
       "</table>\n",
       "<p>46397 rows × 3 columns</p>\n",
       "</div>"
      ],
      "text/plain": [
       "             user_id     item_id  interaction_count\n",
       "0              15850  2046139836                  2\n",
       "1              15850  2408812176                  3\n",
       "2              15850  2828827745                  1\n",
       "3              15850  3240409049                  1\n",
       "4              15850  3558668724                  1\n",
       "...              ...         ...                ...\n",
       "46392  1702546250012  4168550717                  1\n",
       "46393  1702546250012  4357178651                  1\n",
       "46394  1702546250012  4359474466                  1\n",
       "46395  1702546250012  4420513948                  1\n",
       "46396  1702546250012  4537741269                  1\n",
       "\n",
       "[46397 rows x 3 columns]"
      ]
     },
     "execution_count": 9,
     "metadata": {},
     "output_type": "execute_result"
    }
   ],
   "source": [
    "interactions_df"
   ]
  },
  {
   "cell_type": "code",
   "execution_count": 10,
   "id": "a11d0f28",
   "metadata": {},
   "outputs": [],
   "source": [
    "item_counts = interactions_df[\"item_id\"].value_counts()\n",
    "user_counts = interactions_df[\"user_id\"].value_counts()"
   ]
  },
  {
   "cell_type": "code",
   "execution_count": 6,
   "id": "3c3f40ee",
   "metadata": {},
   "outputs": [],
   "source": [
    "interactions_df = (\n",
    "    buyer_stream.groupby([\"user_id\", \"item_id\"])\n",
    "    .size()\n",
    "    .reset_index(name=\"interaction_count\")\n",
    ")\n",
    "\n",
    "item_counts = interactions_df[\"item_id\"].value_counts()\n",
    "user_counts = interactions_df[\"user_id\"].value_counts()\n",
    "\n",
    "filtered_interactions = interactions_df[\n",
    "    interactions_df[\"item_id\"].isin(\n",
    "        item_counts[item_counts >= MIN_ITEM_INTERACTIONS].index\n",
    "    )\n",
    "    & interactions_df[\"user_id\"].isin(\n",
    "        user_counts[user_counts >= MIN_USER_INTERACTIONS].index\n",
    "    )\n",
    "]"
   ]
  },
  {
   "cell_type": "code",
   "execution_count": 12,
   "id": "3599f7cb",
   "metadata": {},
   "outputs": [],
   "source": [
    "train_data, eval_data = train_test_split(\n",
    "    filtered_interactions,\n",
    "    test_size=0.2,\n",
    "    random_state=42,\n",
    "    stratify=filtered_interactions[\"user_id\"],\n",
    ")\n",
    "eval_data = eval_data[eval_data[\"item_id\"].isin(train_data[\"item_id\"].unique())]"
   ]
  },
  {
   "cell_type": "code",
   "execution_count": 13,
   "id": "6a2b75fc",
   "metadata": {},
   "outputs": [
    {
     "data": {
      "text/html": [
       "<div>\n",
       "<style scoped>\n",
       "    .dataframe tbody tr th:only-of-type {\n",
       "        vertical-align: middle;\n",
       "    }\n",
       "\n",
       "    .dataframe tbody tr th {\n",
       "        vertical-align: top;\n",
       "    }\n",
       "\n",
       "    .dataframe thead th {\n",
       "        text-align: right;\n",
       "    }\n",
       "</style>\n",
       "<table border=\"1\" class=\"dataframe\">\n",
       "  <thead>\n",
       "    <tr style=\"text-align: right;\">\n",
       "      <th></th>\n",
       "      <th>user_id</th>\n",
       "      <th>item_id</th>\n",
       "      <th>interaction_count</th>\n",
       "    </tr>\n",
       "  </thead>\n",
       "  <tbody>\n",
       "    <tr>\n",
       "      <th>19885</th>\n",
       "      <td>452514250022</td>\n",
       "      <td>4169368198</td>\n",
       "      <td>2</td>\n",
       "    </tr>\n",
       "    <tr>\n",
       "      <th>8350</th>\n",
       "      <td>7054500081</td>\n",
       "      <td>4201542389</td>\n",
       "      <td>1</td>\n",
       "    </tr>\n",
       "    <tr>\n",
       "      <th>4020</th>\n",
       "      <td>372399197</td>\n",
       "      <td>4372012068</td>\n",
       "      <td>1</td>\n",
       "    </tr>\n",
       "    <tr>\n",
       "      <th>5576</th>\n",
       "      <td>380018120</td>\n",
       "      <td>4387712026</td>\n",
       "      <td>1</td>\n",
       "    </tr>\n",
       "    <tr>\n",
       "      <th>28914</th>\n",
       "      <td>766398000061</td>\n",
       "      <td>2240201661</td>\n",
       "      <td>1</td>\n",
       "    </tr>\n",
       "    <tr>\n",
       "      <th>...</th>\n",
       "      <td>...</td>\n",
       "      <td>...</td>\n",
       "      <td>...</td>\n",
       "    </tr>\n",
       "    <tr>\n",
       "      <th>13284</th>\n",
       "      <td>217631250094</td>\n",
       "      <td>4016121656</td>\n",
       "      <td>1</td>\n",
       "    </tr>\n",
       "    <tr>\n",
       "      <th>31707</th>\n",
       "      <td>862495000018</td>\n",
       "      <td>4489910755</td>\n",
       "      <td>2</td>\n",
       "    </tr>\n",
       "    <tr>\n",
       "      <th>33577</th>\n",
       "      <td>936693000004</td>\n",
       "      <td>4293704977</td>\n",
       "      <td>1</td>\n",
       "    </tr>\n",
       "    <tr>\n",
       "      <th>20002</th>\n",
       "      <td>453743500173</td>\n",
       "      <td>3861267764</td>\n",
       "      <td>1</td>\n",
       "    </tr>\n",
       "    <tr>\n",
       "      <th>9887</th>\n",
       "      <td>54027500444</td>\n",
       "      <td>2591658159</td>\n",
       "      <td>1</td>\n",
       "    </tr>\n",
       "  </tbody>\n",
       "</table>\n",
       "<p>37092 rows × 3 columns</p>\n",
       "</div>"
      ],
      "text/plain": [
       "            user_id     item_id  interaction_count\n",
       "19885  452514250022  4169368198                  2\n",
       "8350     7054500081  4201542389                  1\n",
       "4020      372399197  4372012068                  1\n",
       "5576      380018120  4387712026                  1\n",
       "28914  766398000061  2240201661                  1\n",
       "...             ...         ...                ...\n",
       "13284  217631250094  4016121656                  1\n",
       "31707  862495000018  4489910755                  2\n",
       "33577  936693000004  4293704977                  1\n",
       "20002  453743500173  3861267764                  1\n",
       "9887    54027500444  2591658159                  1\n",
       "\n",
       "[37092 rows x 3 columns]"
      ]
     },
     "execution_count": 13,
     "metadata": {},
     "output_type": "execute_result"
    }
   ],
   "source": [
    "train_data"
   ]
  },
  {
   "cell_type": "markdown",
   "id": "5401fd3d",
   "metadata": {},
   "source": [
    "### Mapping"
   ]
  },
  {
   "cell_type": "code",
   "execution_count": 33,
   "id": "06c78243",
   "metadata": {},
   "outputs": [],
   "source": [
    "train_data, user_to_index, item_to_index = create_mappings(\n",
    "    train_data, save_path=MAPPING\n",
    ")\n",
    "eval_data, _, _ = create_mappings(eval_data, user_to_index, item_to_index)"
   ]
  },
  {
   "cell_type": "code",
   "execution_count": 34,
   "id": "eeb15585",
   "metadata": {},
   "outputs": [],
   "source": [
    "train_matrix = csr_matrix(\n",
    "    (\n",
    "        train_data[\"interaction_count\"].values,\n",
    "        (train_data[\"user_idx\"].values, train_data[\"item_idx\"].values),\n",
    "    )\n",
    ")\n",
    "eval_matrix = csr_matrix(\n",
    "    (\n",
    "        eval_data[\"interaction_count\"].values,\n",
    "        (eval_data[\"user_idx\"].values, eval_data[\"item_idx\"].values),\n",
    "    )\n",
    ")\n",
    "save_csr_matrix(\n",
    "    train_matrix, eval_matrix, save_path_eval=EVAL_MATRIX, save_path_train=TRAIN_MATRIX\n",
    ")"
   ]
  },
  {
   "cell_type": "markdown",
   "id": "02c5cf86",
   "metadata": {},
   "source": [
    "### Train"
   ]
  },
  {
   "cell_type": "code",
   "execution_count": 35,
   "id": "a79ca405",
   "metadata": {},
   "outputs": [],
   "source": [
    "als = ALS()"
   ]
  },
  {
   "cell_type": "code",
   "execution_count": 36,
   "id": "36769261",
   "metadata": {},
   "outputs": [
    {
     "name": "stderr",
     "output_type": "stream",
     "text": [
      "100%|██████████| 10/10 [00:01<00:00,  7.40it/s]\n"
     ]
    }
   ],
   "source": [
    "als.train(train_matrix, show_progress=True, save_path=MODEL)"
   ]
  },
  {
   "cell_type": "markdown",
   "id": "9eca8e0b",
   "metadata": {},
   "source": [
    "### Eval"
   ]
  },
  {
   "cell_type": "code",
   "execution_count": 37,
   "id": "c1c9c112",
   "metadata": {},
   "outputs": [
    {
     "name": "stderr",
     "output_type": "stream",
     "text": [
      "100%|██████████| 66/66 [00:00<00:00, 4148.48it/s]\n",
      "100%|██████████| 66/66 [00:00<00:00, 1995.39it/s]"
     ]
    },
    {
     "name": "stdout",
     "output_type": "stream",
     "text": [
      "precision_at_k: 0.11235955056179775\n",
      "mean_average_precision_at_k: 0.027954545454545454\n"
     ]
    },
    {
     "name": "stderr",
     "output_type": "stream",
     "text": [
      "\n"
     ]
    }
   ],
   "source": [
    "precision = precision_at_k(als.model, train_matrix, eval_matrix, K=5)\n",
    "map_score = mean_average_precision_at_k(als.model, train_matrix, eval_matrix, K=5)\n",
    "print(f\"precision_at_k: {precision}\\nmean_average_precision_at_k: {map_score}\")"
   ]
  },
  {
   "cell_type": "code",
   "execution_count": 38,
   "id": "888cc859",
   "metadata": {},
   "outputs": [],
   "source": [
    "als.load_mapping(MAPPING)"
   ]
  },
  {
   "cell_type": "code",
   "execution_count": 39,
   "id": "e003db7c",
   "metadata": {},
   "outputs": [
    {
     "name": "stdout",
     "output_type": "stream",
     "text": [
      "\n",
      "Товары, похожие на 4802219291:\n",
      "3742813120: 1.000\n",
      "4683851490: 1.000\n",
      "4452170017: 1.000\n",
      "3453494208: 1.000\n",
      "4217601482: 1.000\n"
     ]
    }
   ],
   "source": [
    "sample_item_id = 4802219291\n",
    "\n",
    "train_items = set(train_data[\"item_id\"].unique())\n",
    "if sample_item_id not in train_items:\n",
    "    print(f\"Товар {sample_item_id} отсутствует в обучающих данных\")\n",
    "else:\n",
    "    similar_items = als.get_similar_items(sample_item_id, verbose=True)\n",
    "    print(f\"\\nТовары, похожие на {sample_item_id}:\")\n",
    "    for item_id, score in similar_items:\n",
    "        print(f\"{item_id}: {score:.3f}\")"
   ]
  },
  {
   "cell_type": "code",
   "execution_count": 40,
   "id": "0b509d61",
   "metadata": {},
   "outputs": [
    {
     "name": "stdout",
     "output_type": "stream",
     "text": [
      "\n",
      "Рекомендации для пользователя 15850:\n",
      "2229440076: 0.002\n",
      "3661786505: 0.002\n",
      "4191096072: 0.002\n",
      "3675416651: 0.002\n",
      "4370010818: 0.002\n"
     ]
    }
   ],
   "source": [
    "sample_user_id = 15850\n",
    "user_recommendations = als.get_user_recommendations(\n",
    "    sample_user_id, train_matrix=train_matrix, N=5, verbose=True\n",
    ")\n",
    "\n",
    "print(f\"\\nРекомендации для пользователя {sample_user_id}:\")\n",
    "for item_id, score in user_recommendations:\n",
    "    print(f\"{item_id}: {score:.3f}\")"
   ]
  },
  {
   "cell_type": "code",
   "execution_count": 41,
   "id": "2eb7c93a",
   "metadata": {},
   "outputs": [
    {
     "name": "stdout",
     "output_type": "stream",
     "text": [
      "\n",
      "Рекомендации для пользователя 15850:\n",
      "4191096072: 0.005\n",
      "2229440076: 0.005\n",
      "3661786505: 0.004\n",
      "4181371927: 0.004\n",
      "4490385824: 0.004\n"
     ]
    }
   ],
   "source": [
    "sample_user_id = 15850\n",
    "user_recommendations = als.get_user_recommendations_with_similar_users(\n",
    "    sample_user_id, train_matrix=train_matrix, N=5, verbose=True\n",
    ")\n",
    "\n",
    "print(f\"\\nРекомендации для пользователя {sample_user_id}:\")\n",
    "for item_id, score in user_recommendations:\n",
    "    print(f\"{item_id}: {score:.3f}\")"
   ]
  }
 ],
 "metadata": {
  "kernelspec": {
   "display_name": ".venv",
   "language": "python",
   "name": "python3"
  },
  "language_info": {
   "codemirror_mode": {
    "name": "ipython",
    "version": 3
   },
   "file_extension": ".py",
   "mimetype": "text/x-python",
   "name": "python",
   "nbconvert_exporter": "python",
   "pygments_lexer": "ipython3",
   "version": "3.12.2"
  }
 },
 "nbformat": 4,
 "nbformat_minor": 5
}
